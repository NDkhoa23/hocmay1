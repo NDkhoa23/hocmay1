{
 "cells": [
  {
   "cell_type": "markdown",
   "metadata": {},
   "source": [
    "## Coding Exercise #0514"
   ]
  },
  {
   "cell_type": "markdown",
   "metadata": {},
   "source": [
    "#### 1. Document classification with LSTM network:"
   ]
  },
  {
   "cell_type": "code",
   "execution_count": 1,
   "metadata": {},
   "outputs": [],
   "source": [
    "import pandas as pd\n",
    "import numpy as np\n",
    "import warnings    \n",
    "import matplotlib.pyplot as plt\n",
    "from sklearn.model_selection import train_test_split\n",
    "from tensorflow.keras.datasets.reuters import load_data, get_word_index       # Reuters news data. \n",
    "from tensorflow.keras.models import Sequential\n",
    "from tensorflow.keras.layers import Dense, SimpleRNN, LSTM, Embedding\n",
    "from tensorflow.keras.utils import to_categorical\n",
    "from tensorflow.keras.preprocessing import sequence\n",
    "from tensorflow.keras.optimizers import Adam, RMSprop, SGD\n",
    "warnings.filterwarnings('ignore')                  # Turn the warnings off.\n",
    "%matplotlib inline"
   ]
  },
  {
   "cell_type": "markdown",
   "metadata": {},
   "source": [
    "#### 1.1. Read in the data:"
   ]
  },
  {
   "cell_type": "code",
   "execution_count": 2,
   "metadata": {},
   "outputs": [],
   "source": [
    "n_words = 1000                                        # Size of the vocabulary.\n",
    "(X_train, y_train), (X_test, y_test) = load_data(num_words = n_words, test_split = 0.3)\n",
    "n_train_size = X_train.shape[0]"
   ]
  },
  {
   "cell_type": "code",
   "execution_count": 3,
   "metadata": {},
   "outputs": [
    {
     "name": "stdout",
     "output_type": "stream",
     "text": [
      "--------------------------------------------------\n",
      "Training data X shape: (7859,)\n",
      "Training data y shape: (7859,)\n",
      "--------------------------------------------------\n",
      "Test data X shape: (3369,)\n",
      "Test data y shape: (3369,)\n",
      "--------------------------------------------------\n"
     ]
    }
   ],
   "source": [
    "# Check for the shapes.\n",
    "print(\"-\"*50)\n",
    "print(\"Training data X shape: {}\".format(X_train.shape))\n",
    "print(\"Training data y shape: {}\".format(y_train.shape))\n",
    "print(\"-\"*50)\n",
    "print(\"Test data X shape: {}\".format(X_test.shape))\n",
    "print(\"Test data y shape: {}\".format(y_test.shape))\n",
    "print(\"-\"*50)"
   ]
  },
  {
   "cell_type": "markdown",
   "metadata": {},
   "source": [
    "#### 1.2. Explore the data:"
   ]
  },
  {
   "cell_type": "code",
   "execution_count": 4,
   "metadata": {},
   "outputs": [
    {
     "data": {
      "text/plain": [
       "46"
      ]
     },
     "execution_count": 4,
     "metadata": {},
     "output_type": "execute_result"
    }
   ],
   "source": [
    "# Number of unique values of y = Number of categories of the newswires.\n",
    "n_cat = pd.Series(y_train).nunique()\n",
    "n_cat"
   ]
  },
  {
   "cell_type": "code",
   "execution_count": 5,
   "metadata": {},
   "outputs": [
    {
     "name": "stdout",
     "output_type": "stream",
     "text": [
      "[1, 2, 2, 8, 43, 10, 447, 5, 25, 207, 270, 5, 2, 111, 16, 369, 186, 90, 67, 7, 89, 5, 19, 102, 6, 19, 124, 15, 90, 67, 84, 22, 482, 26, 7, 48, 4, 49, 8, 864, 39, 209, 154, 6, 151, 6, 83, 11, 15, 22, 155, 11, 15, 7, 48, 9, 2, 2, 504, 6, 258, 6, 272, 11, 15, 22, 134, 44, 11, 15, 16, 8, 197, 2, 90, 67, 52, 29, 209, 30, 32, 132, 6, 109, 15, 17, 12]\n"
     ]
    }
   ],
   "source": [
    "# Print out an observation (document) contained in X.\n",
    "# It is encoded as integers (indices).\n",
    "print(X_train[0])"
   ]
  },
  {
   "cell_type": "code",
   "execution_count": 6,
   "metadata": {},
   "outputs": [
    {
     "name": "stdout",
     "output_type": "stream",
     "text": [
      "[87, 56, 139, 224, 101, 116, 100, 100, 82, 106, 31, 59, 65, 316, 527, 76, 114, 17, 91, 77, 231, 108, 83, 29, 95, 110, 23, 373, 114, 354, 133, 222, 571, 155, 83, 208, 170, 269, 74, 19, 23, 78, 21, 377, 104, 299, 89, 56, 94, 139, 118, 36, 137, 107, 83, 66, 70, 112, 88, 51, 83, 123, 17, 185, 84, 52, 102, 73, 106, 486, 107, 82, 263, 172, 491, 190, 143, 62, 26, 88, 114, 38, 85, 112, 793, 104, 25, 21, 101, 28, 25, 81, 135, 73, 62, 18, 90, 266, 91, 64]\n"
     ]
    }
   ],
   "source": [
    "# Let's check for length of the first 100 documents.\n",
    "# We notice that the length is not uniform.\n",
    "print([len(a) for a in X_train[0:100]])"
   ]
  },
  {
   "cell_type": "code",
   "execution_count": 7,
   "metadata": {},
   "outputs": [],
   "source": [
    "# Download the dictionary to translate the indices.\n",
    "my_dict = get_word_index(path='reuters_word_index.json')"
   ]
  },
  {
   "cell_type": "code",
   "execution_count": 8,
   "metadata": {},
   "outputs": [],
   "source": [
    "# To view the dictionary.\n",
    "# my_dict"
   ]
  },
  {
   "cell_type": "code",
   "execution_count": 9,
   "metadata": {},
   "outputs": [],
   "source": [
    "# Exchange the 'key' and 'value'.\n",
    "my_dict_inv = {v:k for k,v in my_dict.items()}"
   ]
  },
  {
   "cell_type": "code",
   "execution_count": 10,
   "metadata": {},
   "outputs": [
    {
     "name": "stdout",
     "output_type": "stream",
     "text": [
      "the federal gain only growth lt they meeting year reuter company did year an they of of reuter company of of 1987 had of of reuter had profits of pct dlrs\n"
     ]
    }
   ],
   "source": [
    "# Translate each document.\n",
    "i_news = 10                                        # Document number that can be changed at will.\n",
    "news = list(pd.Series(X_train[i_news]).apply(lambda x: my_dict_inv[x]))\n",
    "print(' '.join(news))"
   ]
  },
  {
   "cell_type": "markdown",
   "metadata": {},
   "source": [
    "#### 1.3. Data preprocessing:"
   ]
  },
  {
   "cell_type": "code",
   "execution_count": 11,
   "metadata": {},
   "outputs": [],
   "source": [
    "# Padding: newswire lengths are uniformly matched to maxlen.\n",
    "# Cut away if longer than maxlen and fill with 0s if shorter than maxlen.\n",
    "X_train = sequence.pad_sequences(X_train, maxlen = 100)\n",
    "X_test = sequence.pad_sequences(X_test, maxlen = 100)"
   ]
  },
  {
   "cell_type": "code",
   "execution_count": 12,
   "metadata": {},
   "outputs": [],
   "source": [
    "# Apply one-hot-encoding to the y variable.\n",
    "y = np.concatenate([y_train,y_test],axis=0)\n",
    "y = to_categorical(y,46)\n",
    "y_train = y[:n_train_size,:]\n",
    "y_test = y[n_train_size:,:]"
   ]
  },
  {
   "cell_type": "markdown",
   "metadata": {},
   "source": [
    "#### 1.4. Define the model:"
   ]
  },
  {
   "cell_type": "code",
   "execution_count": 13,
   "metadata": {},
   "outputs": [],
   "source": [
    "n_neurons = 100                   # Neurons within each memory cell.\n",
    "n_input = 100                     # Dimension of the embeding space. "
   ]
  },
  {
   "cell_type": "code",
   "execution_count": 14,
   "metadata": {},
   "outputs": [],
   "source": [
    "# LSTM network model.\n",
    "my_model = Sequential()\n",
    "my_model.add(Embedding(n_words, n_input))           # n_words = vocabulary size, n_input = dimension of the embedding space.\n",
    "my_model.add(LSTM(units=n_neurons, return_sequences=False, input_shape=(None, n_input), activation='tanh'))\n",
    "my_model.add(Dense(n_cat, activation='softmax'))"
   ]
  },
  {
   "cell_type": "code",
   "execution_count": 15,
   "metadata": {},
   "outputs": [
    {
     "name": "stdout",
     "output_type": "stream",
     "text": [
      "Model: \"sequential\"\n",
      "_________________________________________________________________\n",
      " Layer (type)                Output Shape              Param #   \n",
      "=================================================================\n",
      " embedding (Embedding)       (None, None, 100)         100000    \n",
      "                                                                 \n",
      " lstm (LSTM)                 (None, 100)               80400     \n",
      "                                                                 \n",
      " dense (Dense)               (None, 46)                4646      \n",
      "                                                                 \n",
      "=================================================================\n",
      "Total params: 185046 (722.84 KB)\n",
      "Trainable params: 185046 (722.84 KB)\n",
      "Non-trainable params: 0 (0.00 Byte)\n",
      "_________________________________________________________________\n"
     ]
    }
   ],
   "source": [
    "# View the summary.\n",
    "my_model.summary()"
   ]
  },
  {
   "cell_type": "markdown",
   "metadata": {},
   "source": [
    "#### 1.5. Define the optimizer and compile:"
   ]
  },
  {
   "cell_type": "code",
   "execution_count": 16,
   "metadata": {},
   "outputs": [],
   "source": [
    "n_epochs = 20                      # Number of epochs.\n",
    "batch_size = 20                    # Size of each batch.\n",
    "learn_rate = 0.001                 # learning rate.  "
   ]
  },
  {
   "cell_type": "code",
   "execution_count": 17,
   "metadata": {},
   "outputs": [],
   "source": [
    "# Optimizer and compilation.\n",
    "my_optimizer=Adam(learning_rate=learn_rate)\n",
    "my_model.compile(loss = \"categorical_crossentropy\", optimizer = my_optimizer, metrics=[\"accuracy\"])"
   ]
  },
  {
   "cell_type": "markdown",
   "metadata": {},
   "source": [
    "#### 1.6. Train the model and visualize the history:"
   ]
  },
  {
   "cell_type": "code",
   "execution_count": 18,
   "metadata": {},
   "outputs": [
    {
     "name": "stdout",
     "output_type": "stream",
     "text": [
      "Epoch 1/20\n",
      "315/315 [==============================] - 16s 45ms/step - loss: 2.3225 - accuracy: 0.4155 - val_loss: 1.9454 - val_accuracy: 0.5070\n",
      "Epoch 2/20\n",
      "315/315 [==============================] - 14s 45ms/step - loss: 1.8668 - accuracy: 0.5348 - val_loss: 1.6830 - val_accuracy: 0.5579\n",
      "Epoch 3/20\n",
      "315/315 [==============================] - 15s 47ms/step - loss: 1.7236 - accuracy: 0.5620 - val_loss: 1.6361 - val_accuracy: 0.5725\n",
      "Epoch 4/20\n",
      "315/315 [==============================] - 16s 49ms/step - loss: 1.5902 - accuracy: 0.5896 - val_loss: 1.5343 - val_accuracy: 0.6075\n",
      "Epoch 5/20\n",
      "315/315 [==============================] - 17s 54ms/step - loss: 1.5807 - accuracy: 0.5931 - val_loss: 1.5226 - val_accuracy: 0.5916\n",
      "Epoch 6/20\n",
      "315/315 [==============================] - 16s 50ms/step - loss: 1.4014 - accuracy: 0.6319 - val_loss: 1.4388 - val_accuracy: 0.6310\n",
      "Epoch 7/20\n",
      "315/315 [==============================] - 21s 68ms/step - loss: 1.3313 - accuracy: 0.6580 - val_loss: 1.3774 - val_accuracy: 0.6520\n",
      "Epoch 8/20\n",
      "315/315 [==============================] - 21s 67ms/step - loss: 1.2411 - accuracy: 0.6814 - val_loss: 1.3171 - val_accuracy: 0.6673\n",
      "Epoch 9/20\n",
      "315/315 [==============================] - 22s 69ms/step - loss: 1.1734 - accuracy: 0.7018 - val_loss: 1.3181 - val_accuracy: 0.6768\n",
      "Epoch 10/20\n",
      "315/315 [==============================] - 22s 68ms/step - loss: 1.1000 - accuracy: 0.7189 - val_loss: 1.2247 - val_accuracy: 0.7004\n",
      "Epoch 11/20\n",
      "315/315 [==============================] - 22s 69ms/step - loss: 1.0306 - accuracy: 0.7374 - val_loss: 1.3182 - val_accuracy: 0.6781\n",
      "Epoch 12/20\n",
      "315/315 [==============================] - 17s 55ms/step - loss: 0.9689 - accuracy: 0.7514 - val_loss: 1.2129 - val_accuracy: 0.7074\n",
      "Epoch 13/20\n",
      "315/315 [==============================] - 14s 44ms/step - loss: 0.9018 - accuracy: 0.7655 - val_loss: 1.1764 - val_accuracy: 0.7176\n",
      "Epoch 14/20\n",
      "315/315 [==============================] - 13s 42ms/step - loss: 0.8474 - accuracy: 0.7837 - val_loss: 1.1856 - val_accuracy: 0.7233\n",
      "Epoch 15/20\n",
      "315/315 [==============================] - 14s 45ms/step - loss: 0.8009 - accuracy: 0.7921 - val_loss: 1.2159 - val_accuracy: 0.7156\n",
      "Epoch 16/20\n",
      "315/315 [==============================] - 16s 50ms/step - loss: 0.7323 - accuracy: 0.8099 - val_loss: 1.2004 - val_accuracy: 0.7290\n",
      "Epoch 17/20\n",
      "315/315 [==============================] - 16s 52ms/step - loss: 0.6765 - accuracy: 0.8287 - val_loss: 1.2621 - val_accuracy: 0.7246\n",
      "Epoch 18/20\n",
      "315/315 [==============================] - 25s 78ms/step - loss: 0.6333 - accuracy: 0.8365 - val_loss: 1.2305 - val_accuracy: 0.7303\n",
      "Epoch 19/20\n",
      "315/315 [==============================] - 26s 83ms/step - loss: 0.5837 - accuracy: 0.8494 - val_loss: 1.2607 - val_accuracy: 0.7239\n",
      "Epoch 20/20\n",
      "315/315 [==============================] - 27s 85ms/step - loss: 0.5468 - accuracy: 0.8608 - val_loss: 1.2978 - val_accuracy: 0.7271\n"
     ]
    }
   ],
   "source": [
    "my_summary = my_model.fit(X_train, y_train, epochs=n_epochs, batch_size = batch_size, validation_split=0.2, verbose = 1)"
   ]
  },
  {
   "cell_type": "code",
   "execution_count": 19,
   "metadata": {},
   "outputs": [
    {
     "data": {
      "image/png": "[encoded data removed]",
      "text/plain": [
       "<Figure size 640x480 with 1 Axes>"
      ]
     },
     "metadata": {},
     "output_type": "display_data"
    }
   ],
   "source": [
    "plt.plot(my_summary.history['accuracy'], c=\"b\")\n",
    "plt.plot(my_summary.history['val_accuracy'], c=\"g\")\n",
    "plt.title('Training History')\n",
    "plt.ylabel('Accuracy')\n",
    "plt.xlabel('Epoch')\n",
    "plt.legend(['Train', 'Validation'], loc='lower right')\n",
    "plt.show()"
   ]
  },
  {
   "cell_type": "markdown",
   "metadata": {},
   "source": [
    "#### 1.7. Testing: "
   ]
  },
  {
   "cell_type": "code",
   "execution_count": 20,
   "metadata": {},
   "outputs": [
    {
     "name": "stdout",
     "output_type": "stream",
     "text": [
      "Test Accuracy : 0.706\n"
     ]
    }
   ],
   "source": [
    "ACC = my_model.evaluate(X_test, y_test, verbose=0)[1]    \n",
    "print(\"Test Accuracy : {}\".format(np.round(ACC,3)))"
   ]
  },
  {
   "cell_type": "code",
   "execution_count": 21,
   "metadata": {},
   "outputs": [],
   "source": [
    "# Lưu mô hình sau khi huấn luyện\n",
    "my_model.save('my_model61.h5')\n"
   ]
  },
  {
   "cell_type": "code",
   "execution_count": 31,
   "metadata": {},
   "outputs": [],
   "source": [
    "from tensorflow.keras.models import load_model\n",
    "\n",
    "# Tải lại mô hình đã huấn luyện\n",
    "my_model = load_model('my_model61.h5')\n"
   ]
  },
  {
   "cell_type": "code",
   "execution_count": 32,
   "metadata": {},
   "outputs": [
    {
     "name": "stdout",
     "output_type": "stream",
     "text": [
      "Test Loss: 1.4021\n",
      "Test Accuracy: 0.7061\n"
     ]
    }
   ],
   "source": [
    "# Đánh giá mô hình trên tập test\n",
    "test_loss, test_accuracy = my_model.evaluate(X_test, y_test, verbose=0)\n",
    "\n",
    "# In ra kết quả\n",
    "print(f\"Test Loss: {test_loss:.4f}\")\n",
    "print(f\"Test Accuracy: {test_accuracy:.4f}\")\n"
   ]
  },
  {
   "cell_type": "code",
   "execution_count": 33,
   "metadata": {},
   "outputs": [
    {
     "name": "stdout",
     "output_type": "stream",
     "text": [
      "106/106 [==============================] - 2s 19ms/step\n",
      "              precision    recall  f1-score   support\n",
      "\n",
      "           0       0.44      0.65      0.52        17\n",
      "           1       0.60      0.74      0.66       159\n",
      "           2       0.35      0.21      0.27        28\n",
      "           3       0.89      0.92      0.91      1203\n",
      "           4       0.76      0.84      0.80       722\n",
      "           5       0.00      0.00      0.00         8\n",
      "           6       0.81      0.57      0.67        23\n",
      "           7       0.33      0.25      0.29         4\n",
      "           8       0.62      0.45      0.52        51\n",
      "           9       0.50      0.73      0.59        33\n",
      "          10       0.78      0.62      0.69        40\n",
      "          11       0.54      0.56      0.55       136\n",
      "          12       0.44      0.18      0.26        22\n",
      "          13       0.37      0.27      0.31        60\n",
      "          14       0.00      0.00      0.00        10\n",
      "          15       0.00      0.00      0.00        10\n",
      "          16       0.73      0.60      0.66       156\n",
      "          17       0.45      0.28      0.34        18\n",
      "          18       0.35      0.56      0.43        27\n",
      "          19       0.63      0.59      0.61       207\n",
      "          20       0.42      0.41      0.41       101\n",
      "          21       0.31      0.14      0.19        36\n",
      "          22       0.00      0.00      0.00        12\n",
      "          23       0.00      0.00      0.00        17\n",
      "          24       0.16      0.16      0.16        25\n",
      "          25       0.49      0.61      0.54        46\n",
      "          26       0.33      0.14      0.20        14\n",
      "          27       0.11      0.17      0.13         6\n",
      "          28       0.06      0.07      0.06        15\n",
      "          29       0.00      0.00      0.00         4\n",
      "          30       0.45      0.26      0.33        19\n",
      "          31       0.15      0.33      0.20        18\n",
      "          32       0.33      0.17      0.22        12\n",
      "          33       0.00      0.00      0.00         7\n",
      "          34       0.29      0.29      0.29        14\n",
      "          35       0.00      0.00      0.00         6\n",
      "          36       0.25      0.14      0.18        14\n",
      "          37       0.00      0.00      0.00         4\n",
      "          38       0.00      0.00      0.00         6\n",
      "          39       0.00      0.00      0.00         9\n",
      "          40       0.00      0.00      0.00        14\n",
      "          41       0.00      0.00      0.00        10\n",
      "          42       0.00      0.00      0.00         6\n",
      "          43       0.40      0.25      0.31         8\n",
      "          44       0.71      0.71      0.71         7\n",
      "          45       0.33      0.20      0.25         5\n",
      "\n",
      "    accuracy                           0.71      3369\n",
      "   macro avg       0.31      0.28      0.29      3369\n",
      "weighted avg       0.69      0.71      0.69      3369\n",
      "\n"
     ]
    }
   ],
   "source": [
    "from sklearn.metrics import classification_report\n",
    "import numpy as np\n",
    "\n",
    "# Dự đoán các nhãn cho tập test\n",
    "y_pred = np.argmax(my_model.predict(X_test), axis=1)\n",
    "\n",
    "# In ra báo cáo phân loại chi tiết\n",
    "print(classification_report(np.argmax(y_test, axis=1), y_pred))\n"
   ]
  }
 ],
 "metadata": {
  "kernelspec": {
   "display_name": "myenv",
   "language": "python",
   "name": "python3"
  },
  "language_info": {
   "codemirror_mode": {
    "name": "ipython",
    "version": 3
   },
   "file_extension": ".py",
   "mimetype": "text/x-python",
   "name": "python",
   "nbconvert_exporter": "python",
   "pygments_lexer": "ipython3",
   "version": "3.10.8"
  }
 },
 "nbformat": 4,
 "nbformat_minor": 2
}
