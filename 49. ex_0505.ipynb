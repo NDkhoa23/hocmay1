{
 "cells": [
  {
   "cell_type": "markdown",
   "metadata": {},
   "source": [
    "## Coding Exercise #0505"
   ]
  },
  {
   "cell_type": "code",
   "execution_count": 1,
   "metadata": {},
   "outputs": [],
   "source": [
    "# Install Tweepy once.\n",
    "# !pip install tweepy"
   ]
  },
  {
   "cell_type": "code",
   "execution_count": 2,
   "metadata": {},
   "outputs": [],
   "source": [
    "import tweepy\n",
    "import re\n",
    "import os\n",
    "import pickle\n",
    "import nltk\n",
    "from nltk.corpus import stopwords\n",
    "from tweepy import OAuthHandler"
   ]
  },
  {
   "cell_type": "markdown",
   "metadata": {},
   "source": [
    "### 1. Fetching tweets from Twitter:\n",
    "More information can be found [here](http://docs.tweepy.org/en/v3.5.0/index.html)."
   ]
  },
  {
   "cell_type": "code",
   "execution_count": 14,
   "metadata": {},
   "outputs": [],
   "source": [
    "# Xác thực\n",
    "auth = tweepy.OAuthHandler(consumer_key, consumer_secret)\n",
    "auth.set_access_token(access_token, access_token_secret)\n",
    "api = tweepy.API(auth, wait_on_rate_limit=True)"
   ]
  },
  {
   "cell_type": "code",
   "execution_count": 15,
   "metadata": {},
   "outputs": [],
   "source": [
    "def collect_tweets(keyword, location=None, num_tweets=100):\n",
    "    tweets = []\n",
    "    try:\n",
    "        # Xây dựng query\n",
    "        query = f\"{keyword} -filter:retweets lang:en\"\n",
    "        \n",
    "        # Thêm location nếu có\n",
    "        geocode = None\n",
    "        if location:\n",
    "            geocode = f\"{location},500km\"\n",
    "        \n",
    "        # Thu thập tweet\n",
    "        for tweet in tweepy.Cursor(api.search_tweets,\n",
    "                                 q=query,\n",
    "                                 tweet_mode='extended',\n",
    "                                 geocode=geocode).items(num_tweets):\n",
    "            tweets.append(tweet.full_text)\n",
    "            \n",
    "        return tweets\n",
    "    \n",
    "    except tweepy.TweepyException as e:\n",
    "        print(f\"Lỗi khi thu thập tweet: {e}\")\n",
    "        return []"
   ]
  },
  {
   "cell_type": "code",
   "execution_count": 16,
   "metadata": {},
   "outputs": [],
   "source": [
    "def preprocess_tweet(tweet):\n",
    "    # Chuyển về chữ thường\n",
    "    tweet = tweet.lower()\n",
    "    \n",
    "    # Xóa URL\n",
    "    tweet = re.sub(r\"http\\S+|www\\S+|https\\S+\", \"\", tweet)\n",
    "    \n",
    "    # Thay thế từ viết tắt\n",
    "    contractions = {\n",
    "        r\"i'm\": \"i am\",\n",
    "        r\"you're\": \"you are\",\n",
    "        r\"it's\": \"it is\",\n",
    "        r\"that's\": \"that is\",\n",
    "        r\"what's\": \"what is\",\n",
    "        r\"where's\": \"where is\",\n",
    "        r\"\\'ll\": \" will\",\n",
    "        r\"\\'ve\": \" have\",\n",
    "        r\"\\'re\": \" are\",\n",
    "        r\"\\'d\": \" would\",\n",
    "        r\"won't\": \"will not\",\n",
    "        r\"can't\": \"cannot\",\n",
    "        r\"n't\": \" not\"\n",
    "    }\n",
    "    \n",
    "    for pattern, repl in contractions.items():\n",
    "        tweet = re.sub(pattern, repl, tweet)\n",
    "    \n",
    "    # Xóa ký tự đặc biệt và số\n",
    "    tweet = re.sub(r\"[^a-zA-Z]\", \" \", tweet)\n",
    "    \n",
    "    # Xóa khoảng trắng thừa\n",
    "    tweet = re.sub(r\"\\s+\", \" \", tweet).strip()\n",
    "    \n",
    "    # Loại bỏ stopwords\n",
    "    stop_words = set(stopwords.words('english'))\n",
    "    words = nltk.word_tokenize(tweet)\n",
    "    words = [word for word in words if word not in stop_words]\n",
    "    \n",
    "    return ' '.join(words)"
   ]
  },
  {
   "cell_type": "code",
   "execution_count": 17,
   "metadata": {},
   "outputs": [
    {
     "name": "stdout",
     "output_type": "stream",
     "text": [
      "Lỗi khi thu thập tweet: 403 Forbidden\n",
      "453 - You currently have access to a subset of X API V2 endpoints and limited v1.1 endpoints (e.g. media post, oauth) only. If you need access to this endpoint, you may need a different access level. You can learn more here: https://developer.x.com/en/portal/product\n",
      "Đã thu thập được 0 tweet\n",
      "\n",
      "10 tweet đầu tiên sau khi xử lý:\n"
     ]
    }
   ],
   "source": [
    "# Thông số tìm kiếm\n",
    "keyword = \"Trump\"\n",
    "location = \"40.71,-74.0\"  # New York\n",
    "num_tweets = 30 # Số lượng tweet muốn lấy\n",
    "\n",
    "# Thu thập tweet\n",
    "raw_tweets = collect_tweets(keyword, location, num_tweets)\n",
    "print(f\"Đã thu thập được {len(raw_tweets)} tweet\")\n",
    "\n",
    "# Tiền xử lý\n",
    "processed_tweets = [preprocess_tweet(tweet) for tweet in raw_tweets]\n",
    "\n",
    "# In kết quả\n",
    "print(\"\\n10 tweet đầu tiên sau khi xử lý:\")\n",
    "for i, tweet in enumerate(processed_tweets[:10], 1):\n",
    "    print(f\"{i}. {tweet}\")"
   ]
  },
  {
   "cell_type": "code",
   "execution_count": 23,
   "metadata": {},
   "outputs": [
    {
     "name": "stdout",
     "output_type": "stream",
     "text": [
      "Bearer Token: True\n",
      "Consumer Key: True\n"
     ]
    }
   ],
   "source": [
    "import os\n",
    "from dotenv import load_dotenv\n",
    "\n",
    "load_dotenv()\n",
    "\n",
    "# In ra các key để kiểm tra (DEBUG ONLY - nhớ xóa sau khi kiểm tra)\n",
    "print(\"Bearer Token:\", bool(os.getenv(\"TWITTER_BEARER_TOKEN\")))\n",
    "print(\"Consumer Key:\", bool(os.getenv(\"TWITTER_CONSUMER_KEY\")))"
   ]
  },
  {
   "cell_type": "code",
   "execution_count": 25,
   "metadata": {},
   "outputs": [
    {
     "name": "stdout",
     "output_type": "stream",
     "text": [
      "Lỗi API: 401 Unauthorized\n",
      "Unauthorized\n"
     ]
    }
   ],
   "source": [
    "try:\n",
    "    # Search recent tweets (API v2)\n",
    "    response = client.search_recent_tweets(\n",
    "        query=\"China -is:retweet lang:en\",\n",
    "        max_results=100,\n",
    "        tweet_fields=[\"created_at\", \"text\"],\n",
    "        user_fields=[\"location\"],\n",
    "        expansions=[\"author_id\"],\n",
    "        place_fields=[\"geo\"]\n",
    "    )\n",
    "    \n",
    "    if response.data:\n",
    "        tweets = [tweet.text for tweet in response.data]\n",
    "        print(f\"Đã thu thập được {len(tweets)} tweet\")\n",
    "        for i, tweet in enumerate(tweets[:10], 1):\n",
    "            print(f\"{i}. {tweet}\")\n",
    "    else:\n",
    "        print(\"Không tìm thấy tweet nào phù hợp\")\n",
    "\n",
    "except tweepy.TweepyException as e:\n",
    "    print(f\"Lỗi API: {e}\")\n",
    "except Exception as e:\n",
    "    print(f\"Lỗi hệ thống: {e}\")"
   ]
  },
  {
   "cell_type": "code",
   "execution_count": 29,
   "metadata": {},
   "outputs": [],
   "source": [
    "import tweepy\n",
    "import os\n",
    "from dotenv import load_dotenv\n",
    "\n",
    "# Load environment variables\n",
    "load_dotenv()\n",
    "\n",
    "# Initialize Client WITHOUT bearer token\n",
    "client = tweepy.Client(\n",
    "    consumer_key=os.getenv(\"TWITTER_CONSUMER_KEY\"),\n",
    "    consumer_secret=os.getenv(\"TWITTER_CONSUMER_SECRET\"),\n",
    "    access_token=os.getenv(\"TWITTER_ACCESS_TOKEN\"),\n",
    "    access_token_secret=os.getenv(\"TWITTER_ACCESS_SECRET\"),\n",
    "    wait_on_rate_limit=True\n",
    ")"
   ]
  },
  {
   "cell_type": "code",
   "execution_count": 36,
   "metadata": {},
   "outputs": [
    {
     "name": "stdout",
     "output_type": "stream",
     "text": [
      "Mở URL này trong trình duyệt: https://twitter.com/i/oauth2/authorize?response_type=code&client_id=CLIENT_ID&redirect_uri=https%3A%2F%2Flocalhost&scope=tweet.read+offline.access&state=GK4CsUIl6vfWr4mRiViTHYUT5WSpkp&code_challenge=1uFX82BGSF9jRa760FeSFdLwvdTC3uFK1zXgQKEBE78&code_challenge_method=S256\n"
     ]
    }
   ],
   "source": [
    "from tweepy import OAuth2UserHandler\n",
    "\n",
    "auth = OAuth2UserHandler(\n",
    "    client_id=\"CLIENT_ID\",\n",
    "    client_secret=\"CLIENT_SECRET\",\n",
    "    redirect_uri=\"https://localhost\",\n",
    "    scope=[\"tweet.read\", \"offline.access\"]\n",
    ")\n",
    "\n",
    "# Lấy URL xác thực\n",
    "print(\"Mở URL này trong trình duyệt:\", auth.get_authorization_url())"
   ]
  },
  {
   "cell_type": "code",
   "execution_count": null,
   "metadata": {},
   "outputs": [
    {
     "ename": "SyntaxError",
     "evalue": "'(' was never closed (927504295.py, line 37)",
     "output_type": "error",
     "traceback": [
      "\u001b[1;36m  Cell \u001b[1;32mIn[39], line 37\u001b[1;36m\u001b[0m\n\u001b[1;33m    code = parse_qs(urlparse(callback_url).query['code'][0]\u001b[0m\n\u001b[1;37m                   ^\u001b[0m\n\u001b[1;31mSyntaxError\u001b[0m\u001b[1;31m:\u001b[0m '(' was never closed\n"
     ]
    },
    {
     "ename": "SyntaxError",
     "evalue": "'(' was never closed (2496415833.py, line 37)",
     "output_type": "error",
     "traceback": [
      "\u001b[1;36m  Cell \u001b[1;32mIn[47], line 37\u001b[1;36m\u001b[0m\n\u001b[1;33m    code = parse_qs(urlparse(callback_url).query['code'][0]\u001b[0m\n\u001b[1;37m                   ^\u001b[0m\n\u001b[1;31mSyntaxError\u001b[0m\u001b[1;31m:\u001b[0m '(' was never closed\n"
     ]
    }
   ],
   "source": [
    "import os\n",
    "import tweepy\n",
    "from tweepy import OAuth2UserHandler\n",
    "from dotenv import load_dotenv\n",
    "from urllib.parse import parse_qs, urlparse\n",
    "import webbrowser\n",
    "\n",
    "# 1. Load biến môi trường\n",
    "load_dotenv()  # Tự động tìm file .env\n",
    "\n",
    "# 2. Lấy credentials từ .env\n",
    "CLIENT_ID = os.getenv(\"CLIENT_ID\")\n",
    "CLIENT_SECRET = os.getenv(\"CLIENT_SECRET\")\n",
    "REDIRECT_URI = \"https://b648-2405-4803-fee6-acb0-f835-3b3-70ad-3dcc.ngrok-free.app/callback\"\n",
    "\n",
    "# 3. Kiểm tra biến môi trường\n",
    "if not all([CLIENT_ID, CLIENT_SECRET, REDIRECT_URI]):\n",
    "    raise ValueError(\"Missing Twitter credentials in .env file\")\n",
    "\n",
    "# 4. Xác thực OAuth 2.0\n",
    "auth = OAuth2UserHandler(\n",
    "    client_id=CLIENT_ID,\n",
    "    client_secret=CLIENT_SECRET,\n",
    "    redirect_uri=REDIRECT_URI,\n",
    "    scope=[\"tweet.read\", \"users.read\"],\n",
    ")\n",
    "\n",
    "# 5. Quy trình xác thực\n",
    "try:\n",
    "    # Lấy URL xác thực\n",
    "    auth_url = auth.get_authorization_url()\n",
    "    print(f\"Mở URL để xác thực:\\n{auth_url}\")\n",
    "    webbrowser.open(auth_url)\n",
    "\n",
    "    # Nhập callback URL\n",
    "    callback_url = input(\"Dán URL callback chứa code: \")\n",
    "    code = parse_qs(urlparse(callback_url).query['code'][0]\n",
    "\n",
    "    # Lấy access token\n",
    "    token = auth.fetch_token(code=code)\n",
    "    print(\"Xác thực thành công!\")\n",
    "\n",
    "    # 6. Sử dụng API\n",
    "    client = tweepy.Client(token['access_token'])\n",
    "    tweets = client.search_recent_tweets(\n",
    "        query=\"Python lang:en -is:retweet\",\n",
    "        max_results=5\n",
    "    )\n",
    "    \n",
    "    for tweet in tweets.data:\n",
    "        print(tweet.text)\n",
    "\n",
    "except Exception as e:\n",
    "    print(f\"Lỗi: {e}\")"
   ]
  },
  {
   "cell_type": "code",
   "execution_count": 56,
   "metadata": {},
   "outputs": [
    {
     "name": "stdout",
     "output_type": "stream",
     "text": [
      "Callback URL an toàn: https://e6a3-2405-4803-fee6-acb0-f835-3b3-70ad-3dcc.ngrok-free.app/callback\n"
     ]
    }
   ],
   "source": [
    "from pyngrok import ngrok\n",
    "\n",
    "# 1. Mở tunnel\n",
    "tunnel = ngrok.connect(8000)  # Trả về đối tượng NgrokTunnel\n",
    "\n",
    "# 2. Lấy URL công khai (phải truy cập qua thuộc tính public_url)\n",
    "callback_url = f\"{tunnel.public_url}/callback\"\n",
    "print(\"Callback URL an toàn:\", callback_url)\n",
    "\n",
    "# 3. Cấu hình Twitter API\n",
    "auth = tweepy.OAuth2UserHandler(\n",
    "    client_id=\"CLIENT_ID\",\n",
    "    client_secret=\"CLIENT_SECRET\",\n",
    "    redirect_uri=callback_url,  # Sử dụng URL ngrok\n",
    "    scope=[\"tweet.read\"]\n",
    ")"
   ]
  },
  {
   "cell_type": "code",
   "execution_count": 60,
   "metadata": {},
   "outputs": [
    {
     "name": "stdout",
     "output_type": "stream",
     "text": [
      "🔗 Truy cập URL để xác thực: https://twitter.com/i/oauth2/authorize?response_type=code&client_id=CLIENT_ID&redirect_uri=https%3A%2F%2Fe6a3-2405-4803-fee6-acb0-f835-3b3-70ad-3dcc.ngrok-free.app%2Fcallback&scope=tweet.read+users.read&state=Cp2cTiz0ZNeu2BdWLgVTMHSJCoeLiN&code_challenge=4ytZGf65JQFArLyO3M4ciMUL1lZ0n6iYzzDSv0Qo06Y&code_challenge_method=S256\n"
     ]
    },
    {
     "ename": "TypeError",
     "evalue": "OAuth2UserHandler.fetch_token() got an unexpected keyword argument 'code'",
     "output_type": "error",
     "traceback": [
      "\u001b[1;31m---------------------------------------------------------------------------\u001b[0m",
      "\u001b[1;31mTypeError\u001b[0m                                 Traceback (most recent call last)",
      "Cell \u001b[1;32mIn[60], line 21\u001b[0m\n\u001b[0;32m     19\u001b[0m \u001b[38;5;66;03m# 5. Nhập code từ callback (sau khi xác thực)\u001b[39;00m\n\u001b[0;32m     20\u001b[0m code \u001b[38;5;241m=\u001b[39m \u001b[38;5;28minput\u001b[39m(\u001b[38;5;124m\"\u001b[39m\u001b[38;5;124mNhập code từ URL callback: \u001b[39m\u001b[38;5;124m\"\u001b[39m)\n\u001b[1;32m---> 21\u001b[0m token \u001b[38;5;241m=\u001b[39m \u001b[43mauth\u001b[49m\u001b[38;5;241;43m.\u001b[39;49m\u001b[43mfetch_token\u001b[49m\u001b[43m(\u001b[49m\u001b[43mcode\u001b[49m\u001b[38;5;241;43m=\u001b[39;49m\u001b[43mcode\u001b[49m\u001b[43m)\u001b[49m\n\u001b[0;32m     23\u001b[0m \u001b[38;5;66;03m# 6. Sử dụng API\u001b[39;00m\n\u001b[0;32m     24\u001b[0m client \u001b[38;5;241m=\u001b[39m tweepy\u001b[38;5;241m.\u001b[39mClient(token[\u001b[38;5;124m'\u001b[39m\u001b[38;5;124maccess_token\u001b[39m\u001b[38;5;124m'\u001b[39m])\n",
      "\u001b[1;31mTypeError\u001b[0m: OAuth2UserHandler.fetch_token() got an unexpected keyword argument 'code'"
     ]
    }
   ],
   "source": [
    "import tweepy\n",
    "from dotenv import load_dotenv\n",
    "\n",
    "# 1. Load biến môi trường\n",
    "load_dotenv()\n",
    "\n",
    "# 2. Lấy thông tin xác thực\n",
    "CLIENT_ID = os.getenv(\"CLIENT_ID\")\n",
    "CLIENT_SECRET = os.getenv(\"CLIENT_SECRET\")\n",
    "auth = tweepy.OAuth2UserHandler(\n",
    "    client_id=\"CLIENT_ID\",\n",
    "    client_secret=\"CLIENT_SECRET\",\n",
    "    redirect_uri=callback_url,\n",
    "    scope=[\"tweet.read\", \"users.read\"]\n",
    ")\n",
    "\n",
    "auth_url = auth.get_authorization_url()\n",
    "print(\"🔗 Truy cập URL để xác thực:\", auth_url)\n",
    "# 5. Nhập code từ callback (sau khi xác thực)\n",
    "code = input(\"Nhập code từ URL callback: \")\n",
    "token = auth.fetch_token(code=code)\n",
    "\n",
    "# 6. Sử dụng API\n",
    "client = tweepy.Client(token['access_token'])\n",
    "tweets = client.search_recent_tweets(query=\"Python\", max_results=5)\n",
    "for tweet in tweets.data:\n",
    "    print(tweet.text)"
   ]
  },
  {
   "cell_type": "code",
   "execution_count": 5,
   "metadata": {},
   "outputs": [],
   "source": [
    "# my_keyword = \"Trump\"                           # Search keyword.\n",
    "# my_location = \"40.71,-74.0,500km\"               # Location = latitude, longitude, radius.\n",
    "# n_tweets = 100                                 # Maximum number of tweets."
   ]
  },
  {
   "cell_type": "code",
   "execution_count": 6,
   "metadata": {},
   "outputs": [],
   "source": [
    "# my_tweets = []\n",
    "# api = tweepy.API(auth, timeout = 10)           # Timeout after 10 seconds.\n",
    "# for status in tweepy.Cursor(api.search, q = my_keyword + \" -filter:retweets\", lang=\"en\", result_type=\"recent\", geocode=my_location).items(n_tweets):\n",
    "#     my_tweets.append(status.text)"
   ]
  },
  {
   "cell_type": "code",
   "execution_count": 7,
   "metadata": {},
   "outputs": [],
   "source": [
    "# print('\\n'.join(my_tweets))"
   ]
  },
  {
   "cell_type": "markdown",
   "metadata": {},
   "source": [
    "### 2. Pre-processing the tweets:"
   ]
  },
  {
   "cell_type": "code",
   "execution_count": 8,
   "metadata": {},
   "outputs": [],
   "source": [
    "# my_tweets_new = []\n",
    "# for tweet in my_tweets:\n",
    "#     tweet = tweet.lower()\n",
    "#     tweet = re.sub(r\"^https://t.co/[a-zA-Z0-9]*\\s\", \" \", tweet)\n",
    "#     tweet = re.sub(r\"\\s+https://t.co/[a-zA-Z0-9]*\\s\", \" \", tweet)\n",
    "#     tweet = re.sub(r\"\\s+https://t.co/[a-zA-Z0-9]*$\", \" \", tweet)\n",
    "#     tweet = re.sub(r\"that's\",\"that is\",tweet)\n",
    "#     tweet = re.sub(r\"there's\",\"there is\",tweet)\n",
    "#     tweet = re.sub(r\"what's\",\"what is\",tweet)\n",
    "#     tweet = re.sub(r\"where's\",\"where is\",tweet)\n",
    "#     tweet = re.sub(r\"it's\",\"it is\",tweet)\n",
    "#     tweet = re.sub(r\"who's\",\"who is\",tweet)\n",
    "#     tweet = re.sub(r\"i'm\",\"i am\",tweet)\n",
    "#     tweet = re.sub(r\"she's\",\"she is\",tweet)\n",
    "#     tweet = re.sub(r\"he's\",\"he is\",tweet)\n",
    "#     tweet = re.sub(r\"they're\",\"they are\",tweet)\n",
    "#     tweet = re.sub(r\"who're\",\"who are\",tweet)\n",
    "#     tweet = re.sub(r\"ain't\",\"am not\",tweet)\n",
    "#     tweet = re.sub(r\"wouldn't\",\"would not\",tweet)\n",
    "#     tweet = re.sub(r\"shouldn't\",\"should not\",tweet)\n",
    "#     tweet = re.sub(r\"can't\",\"can not\",tweet)\n",
    "#     tweet = re.sub(r\"couldn't\",\"could not\",tweet)\n",
    "#     tweet = re.sub(r\"won't\",\"will not\",tweet)\n",
    "#     tweet = re.sub(r\"\\W\",\" \",tweet)\n",
    "#     tweet = re.sub(r\"\\d\",\" \",tweet)\n",
    "#     tweet = re.sub(r\"\\s+[a-z]\\s+\",\" \",tweet)\n",
    "#     tweet = re.sub(r\"\\s+[a-z]$\",\" \",tweet)\n",
    "#     tweet = re.sub(r\"^[a-z]\\s+\",\" \",tweet)\n",
    "#     tweet = re.sub(r\"\\s+\",\" \",tweet)\n",
    "#     words = nltk.word_tokenize(tweet)\n",
    "#     words = [x for x in words if x not in stopwords.words('english')]\n",
    "#     tweet = ' '.join(words) \n",
    "#     my_tweets_new.append(tweet)"
   ]
  },
  {
   "cell_type": "code",
   "execution_count": 9,
   "metadata": {},
   "outputs": [],
   "source": [
    "# # Print out the tweets.\n",
    "# i = 0\n",
    "# for tw in my_tweets_new:\n",
    "#     i += 1\n",
    "#     print(str(i) + \" : \" + tw)"
   ]
  },
  {
   "cell_type": "code",
   "execution_count": null,
   "metadata": {},
   "outputs": [],
   "source": []
  }
 ],
 "metadata": {
  "kernelspec": {
   "display_name": "myenv",
   "language": "python",
   "name": "python3"
  },
  "language_info": {
   "codemirror_mode": {
    "name": "ipython",
    "version": 3
   },
   "file_extension": ".py",
   "mimetype": "text/x-python",
   "name": "python",
   "nbconvert_exporter": "python",
   "pygments_lexer": "ipython3",
   "version": "3.10.8"
  }
 },
 "nbformat": 4,
 "nbformat_minor": 2
}
